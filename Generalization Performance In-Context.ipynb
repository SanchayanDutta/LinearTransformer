{
  "nbformat": 4,
  "nbformat_minor": 0,
  "metadata": {
    "colab": {
      "provenance": [],
      "gpuType": "T4"
    },
    "kernelspec": {
      "name": "python3",
      "display_name": "Python 3"
    },
    "language_info": {
      "name": "python"
    },
    "accelerator": "GPU"
  },
  "cells": [
    {
      "cell_type": "code",
      "execution_count": null,
      "metadata": {
        "id": "TIiF8VkplNsr"
      },
      "outputs": [],
      "source": [
        "###########################################\n",
        "# This file contains the following:\n",
        "# 1. Linear Transformer Model\n",
        "# 2. Function for clipping gradient\n",
        "# 3. Function for generating random data\n",
        "#\n",
        "# The notation for linear attention follows\n",
        "# the paper at https://arxiv.org/pdf/2306.00297.pdf\n",
        "###########################################\n",
        "\n",
        "\n",
        "import torch\n",
        "from torch import nn\n",
        "import numpy as np\n",
        "\n",
        "device = torch.device(\"cuda\" if torch.cuda.is_available() else \"cpu\")\n",
        "\n",
        "# Definition of a single linear attention unit for linear-regression data\n",
        "# P is the value matrix\n",
        "# Q is the product of key,query matrices\n",
        "# the dimensions of the input are\n",
        "# B: batch-size of prompts\n",
        "# N: context length (excluding query)\n",
        "# d: covariate dimension\n",
        "# P,Q are d x d matrices\n",
        "# Z is a B x (N+1) + (d+1) matrix\n",
        "# Output is also B x (N+1) + (d+1)\n",
        "\n",
        "# For linear attention, activation = None\n",
        "# For standard attention, activation(x) = torch.nn.functional.softmax(x, dim = 2)\n",
        "# For ReLU attention, activation(x) = torch.nn.relu(x)\n",
        "def attention(P,Q,Z, activation = None):\n",
        "    B= Z.shape[0]\n",
        "    N = Z.shape[1]-1\n",
        "    d = Z.shape[2]-1\n",
        "    P_full =  torch.cat([P,torch.zeros(1,d).to(device)],dim=0)\n",
        "    P_full =  torch.cat([P_full,torch.zeros(d+1,1).to(device)],dim=1)\n",
        "    P_full[d,d] = 1\n",
        "    Q_full = torch.cat([Q, torch.zeros(1,d).to(device)],dim=0)\n",
        "    Q_full = torch.cat([Q_full, torch.zeros(d+1,1).to(device)],dim=1)\n",
        "    A = torch.eye(N+1).to(device)\n",
        "    A[N,N] = 0\n",
        "    Attn = torch.einsum('BNi, ij, BMj -> BNM', (Z,Q_full,Z))\n",
        "    if activation is not None:\n",
        "        Attn = activation(Attn)\n",
        "    key = torch.einsum('ij, BNj -> BNi', (P_full,Z))\n",
        "    Output = torch.einsum('BNM,ML, BLi -> BNi', (Attn,A,key))\n",
        "    return Output /N\n",
        "\n",
        "\n",
        "# The Linear Transformer module\n",
        "# n_layer denotes the number of layers\n",
        "# n_head denotes the number of heads. In most of our experiments, n_head = 1\n",
        "# d denotes the dimension of covariates\n",
        "# var denotes the variance of initialization. It needs to be sufficiently small, but exact value is not important\n",
        "# allparam: contains all the parameters, has dimension n_layer x n_head x 2 x d x d\n",
        "# For example\n",
        "# - P matrix at layer i, head j is allparam[i,j,0,:,:]\n",
        "# - Q matrix at layer i, head j is allparam[i,j,1,:,:]\n",
        "# If run_mode = 0 then training. If run_mode = 1 then in-context learning.\n",
        "class Transformer_F(nn.Module):\n",
        "    def __init__(self, n_layer, n_head, d, var, run_mode):\n",
        "        super(Transformer_F, self).__init__()\n",
        "        self.register_parameter('allparam', torch.nn.Parameter(torch.zeros(n_layer, n_head, 2, d, d)))\n",
        "        # Initialize alpha and beta with requires_grad=False initially\n",
        "        self.alpha = nn.Parameter(torch.ones(n_layer), requires_grad=False)\n",
        "        self.beta = nn.Parameter(torch.zeros(n_layer), requires_grad=False)\n",
        "        self.gamma = nn.Parameter(torch.ones(n_layer), requires_grad=False)\n",
        "        with torch.no_grad():\n",
        "            self.allparam.normal_(0,var)\n",
        "        self.n_layer = n_layer\n",
        "        self.n_head = n_head\n",
        "        self.run_mode = run_mode\n",
        "\n",
        "    def forward(self, Z):\n",
        "        R = torch.zeros_like(Z)\n",
        "        # Toggle beta training based on run_mode\n",
        "        self.alpha.requires_grad = (self.run_mode == 1)\n",
        "        self.beta.requires_grad = (self.run_mode == 1)\n",
        "        self.gamma.requires_grad = (self.run_mode == 1)\n",
        "        # Extract B, N and d values\n",
        "        B, N, d = Z.shape[0], Z.shape[1]-1, Z.shape[2]-1\n",
        "\n",
        "        # Enforce the sparsity condition before processing on P\n",
        "        self.zero_p()\n",
        "        # Enforce the scalar multiple of identity condition on Q\n",
        "        self.identity_q()\n",
        "\n",
        "        for i in range(self.n_layer):\n",
        "            Zi = Z\n",
        "            attention_sum = torch.zeros_like(Z)\n",
        "            # the forward map of each layer is given by F(Z) = Z + attention(Z)\n",
        "            for j in range(self.n_head):\n",
        "                Pij = self.allparam[i,j,0,:,:]\n",
        "                Qij = self.allparam[i,j,1,:,:]\n",
        "                attention_sum = attention_sum + attention(Pij,Qij,Zi)\n",
        "\n",
        "            if self.run_mode == 0:\n",
        "                R = attention_sum * self.gamma[i]\n",
        "            else:\n",
        "                R = R * self.beta[i] + attention_sum * self.gamma[i]\n",
        "\n",
        "            Z = Zi + R * self.alpha[i]\n",
        "\n",
        "        return Z\n",
        "\n",
        "    #enforces top-left-dxd-block sparsity on p\n",
        "    def zero_p(self):\n",
        "        for i in range(self.n_layer):\n",
        "            for j in range(self.n_head):\n",
        "                with torch.no_grad():\n",
        "                    self.allparam[i,j,0,:,:].zero_()\n",
        "\n",
        "    def identity_q(self):\n",
        "        with torch.no_grad():  # Disable gradient tracking\n",
        "            for i in range(self.n_layer):\n",
        "                for j in range(self.n_head):\n",
        "                    Qij = self.allparam[i,j,1,:,:]\n",
        "\n",
        "                    # Zero out all off-diagonal elements\n",
        "                    off_diag_mask = ~torch.eye(Qij.size(-1), dtype=torch.bool, device=Qij.device)\n",
        "                    Qij.masked_fill_(off_diag_mask, 0)\n",
        "\n",
        "                    # Set diagonal elements to the average of the original diagonal elements\n",
        "                    diag_elements = Qij.diag()\n",
        "                    diag_mean = diag_elements.mean()\n",
        "                    Qij.fill_diagonal_(diag_mean)\n",
        "\n",
        "                    # Safely copy the modified tensor back to allparam\n",
        "                    self.allparam[i,j,1,:,:].copy_(Qij)\n",
        "\n",
        "# evaluate the loss of model, given data (Z,y)\n",
        "def in_context_loss(model, Z, y):\n",
        "    N = Z.shape[1]-1\n",
        "    d = Z.shape[2]-1\n",
        "    output = model(Z)\n",
        "    diff = output[:,N,d]+y\n",
        "    loss = ((diff)**2).mean()\n",
        "    return loss\n",
        "\n",
        "# generate random data for linear regression\n",
        "# mode: distribution of samples to generate. Currently supports 'normal', 'gamma', 'sphere'\n",
        "# N: number of context examples\n",
        "# d: dimension of covariates\n",
        "# For gamma distribution:\n",
        "# - shape_k: shape parameter of gamma distribution (unused otherwise)\n",
        "# - scale parameter: hard coded so that when shape_k = 5/2 and d=5, the generated data is standard normal\n",
        "def generate_data(mode='normal',N=20,d=1,B=1000,shape_k=0.1, U=None, D=None):\n",
        "    W= torch.FloatTensor(B, d).normal_(0,1).to(device)\n",
        "    X = torch.FloatTensor(B, N, d).normal_(0, 1).to(device)\n",
        "    X_test = torch.FloatTensor(B,1,d).normal_(0, 1).to(device)\n",
        "\n",
        "    if U is not None:\n",
        "        U = U.to(device)\n",
        "        D = D.to(device)\n",
        "        W= torch.FloatTensor(B, d).normal_(0,1).to(device)\n",
        "        W = torch.mm(W,torch.inverse(D))\n",
        "        W = torch.mm(W,U.t())\n",
        "\n",
        "    if mode =='sphere':\n",
        "        X.div_(X.norm(p=2,dim=2)[:,:,None])\n",
        "        X_test.div_(X_test.norm(p=2,dim=2)[:,:,None])\n",
        "    elif mode == 'gamma':\n",
        "        # random gamma scaling for X\n",
        "        gamma_scales = np.random.gamma(shape=shape_k, scale=(10/shape_k)**(0.5), size=[B,N])\n",
        "        gamma_scales = torch.Tensor(gamma_scales).to(device)\n",
        "        gamma_scales = gamma_scales.sqrt()\n",
        "        # random gamma scaling for X_test\n",
        "        gamma_test_scales = np.random.gamma(shape=shape_k, scale=(10/shape_k)**(0.5), size=[B,1])\n",
        "        gamma_test_scales = torch.Tensor(gamma_test_scales).to(device)\n",
        "        gamma_test_scales = gamma_test_scales.sqrt()\n",
        "        # normalize to unit norm\n",
        "        X.div_(X.norm(p=2,dim=2)[:,:,None])\n",
        "        X_test.div_(X_test.norm(p=2,dim=2)[:,:,None])\n",
        "        # scale by gamma\n",
        "        X.mul_(gamma_scales[:,:,None])\n",
        "        X_test.mul_(gamma_test_scales[:,:,None])\n",
        "    elif mode =='normal':\n",
        "        assert True\n",
        "    elif mode == 'relu':\n",
        "        return generate_data_relu(N=N, d=d, B=B, hidden_dim=d)\n",
        "    elif mode == 'mlp':\n",
        "        generate_data_mlp(N=N, d=d, B=B, hidden_dim=d)\n",
        "    else:\n",
        "        assert False\n",
        "\n",
        "    if U is not None:\n",
        "        X = torch.einsum('ij, jk, BNk -> BNi', (U,D,X))\n",
        "        X_test = torch.einsum('ij, jk, BNk -> BNi', (U,D,X_test))\n",
        "\n",
        "    y = torch.einsum('bi,bni->bn', (W, X)).unsqueeze(2)\n",
        "    y_zero = torch.zeros(B,1,1).to(device)\n",
        "    y_test = torch.einsum('bi,bni->bn', (W, X_test)).squeeze(1)\n",
        "    X_comb= torch.cat([X,X_test],dim=1)\n",
        "    y_comb= torch.cat([y,y_zero],dim=1)\n",
        "    Z= torch.cat([X_comb,y_comb],dim=2)\n",
        "    return Z.to(device),y_test.to(device)\n",
        "\n",
        "def generate_data_inplace(Z, U=None, D=None):\n",
        "\n",
        "\n",
        "    B = Z.shape[0]\n",
        "    N = Z.shape[1]-1\n",
        "    d = Z.shape[2]-1\n",
        "    X = Z[:,:,0:-1]\n",
        "    X.normal_(0, 1).to(device)\n",
        "    W= torch.FloatTensor(B, d).normal_(0,1).to(device)\n",
        "    if U is not None:\n",
        "        U = U.to(device)\n",
        "        D = D.to(device)\n",
        "        W = torch.mm(W,torch.inverse(D))\n",
        "        W = torch.mm(W,U.t())\n",
        "        Z[:,:,0:-1] = torch.einsum('ij, jk, BNk -> BNi', (U,D,X))\n",
        "\n",
        "    Z[:,:,-1] = torch.einsum('bi,bni->bn', (W, Z[:,:,0:-1])) #y update\n",
        "    y_test = Z[:,-1,-1].detach().clone()\n",
        "    Z[:,-1,-1].zero_()\n",
        "    return Z.to(device),y_test.to(device)\n",
        "\n",
        "def generate_data_sine(N=10, B=1000):\n",
        "    # Sample amplitude a and phase p for each task\n",
        "    a = torch.FloatTensor(B).uniform_(0.1, 5).to(device)\n",
        "    p = torch.FloatTensor(B).uniform_(0, math.pi).to(device)\n",
        "\n",
        "    X = torch.FloatTensor(B, N).uniform_(-5, 5).to(device)\n",
        "\n",
        "    Y = a.unsqueeze(1) * torch.sin(p.unsqueeze(1) + X)\n",
        "\n",
        "    X = X.unsqueeze(-1)\n",
        "    Y = Y.unsqueeze(-1)\n",
        "\n",
        "    return X, Y\n",
        "\n",
        "def generate_data_relu(mode='normal', N=20, d=1, B=1000, shape_k=0.1, U=None, D=None, hidden_dim=100):\n",
        "    # Generate random input data\n",
        "    X = torch.FloatTensor(B, N, d).normal_(0, 1).to(device)\n",
        "    X_test = torch.FloatTensor(B, 1, d).normal_(0, 1).to(device)\n",
        "\n",
        "    # Additional transformations if mode is 'sphere' or 'gamma' [Similar to the existing generate_data function]\n",
        "\n",
        "    # Define a 1-hidden layer ReLU network\n",
        "    model = nn.Sequential(\n",
        "        nn.Linear(d, hidden_dim),\n",
        "        nn.ReLU(),\n",
        "        nn.Linear(hidden_dim, 1)\n",
        "    ).to(device)\n",
        "    model[0].weight.data.normal_(0, 0.1)\n",
        "    model[2].weight.data.normal_(0, 0.1)\n",
        "\n",
        "    # Generate y values using the ReLU network\n",
        "    y = model(X.view(-1, d)).view(B, N, 1)\n",
        "    y_test = model(X_test.view(-1, d)).view(B, 1).squeeze(1)\n",
        "\n",
        "    y_zero = torch.zeros(B, 1, 1).to(device)\n",
        "    X_comb = torch.cat([X, X_test], dim=1)\n",
        "    y_comb = torch.cat([y, y_zero], dim=1)\n",
        "    Z = torch.cat([X_comb, y_comb], dim=2)\n",
        "\n",
        "    return Z, y_test\n",
        "\n",
        "def generate_data_mlp(N=20, d=1, B=1000, hidden_dim=100):\n",
        "    # Generate random input data\n",
        "    X = torch.FloatTensor(B, N, d).normal_(0, 1).to(device)\n",
        "    X_test = torch.FloatTensor(B, 1, d).normal_(0, 1).to(device)\n",
        "\n",
        "    # Additional transformations if mode is 'sphere' or 'gamma' [Similar to the existing generate_data function]\n",
        "\n",
        "    # Define a 1-hidden layer ReLU network\n",
        "    model = nn.Sequential(\n",
        "        nn.Linear(d, hidden_dim),\n",
        "        nn.ReLU(),\n",
        "        nn.Linear(hidden_dim, d)\n",
        "    ).to(device)\n",
        "    model[0].weight.data.normal_(0, 1)\n",
        "    model[2].weight.data.normal_(0, 1)\n",
        "\n",
        "    X_MLP = model(X.view(-1, d)).view(B, N, d)\n",
        "    X_test_MLP = model(X_test.view(-1, d)).view(B, 1, d)\n",
        "\n",
        "    W = torch.FloatTensor(B, d).normal_(0,1).to(device)\n",
        "    y = torch.einsum('bi,bni->bn', (W, X_MLP)).unsqueeze(2)\n",
        "    y_zero = torch.zeros(B,1,1).to(device)\n",
        "    y_test = torch.einsum('bi,bni->bn', (W, X_test_MLP)).squeeze(1)\n",
        "    X_comb= torch.cat([X_MLP,X_test_MLP],dim=1)\n",
        "    y_comb= torch.cat([y,y_zero],dim=1)\n",
        "    Z= torch.cat([X_comb,y_comb],dim=2)\n",
        "\n",
        "    return Z, y_test"
      ]
    },
    {
      "cell_type": "code",
      "source": [
        "!cp /content/linear_transformer.py /content/"
      ],
      "metadata": {
        "id": "-RaQ44oDlpBi",
        "colab": {
          "base_uri": "https://localhost:8080/"
        },
        "outputId": "c0a65299-29f8-4224-d6ee-15fe46d54dc5"
      },
      "execution_count": null,
      "outputs": [
        {
          "output_type": "stream",
          "name": "stdout",
          "text": [
            "cp: '/content/linear_transformer.py' and '/content/linear_transformer.py' are the same file\n"
          ]
        }
      ]
    },
    {
      "cell_type": "code",
      "source": [
        "import linear_transformer"
      ],
      "metadata": {
        "id": "k4wTAj1MoD2I"
      },
      "execution_count": null,
      "outputs": []
    },
    {
      "cell_type": "code",
      "source": [
        "import torch\n",
        "%matplotlib inline\n",
        "from matplotlib import pyplot as plt\n",
        "import math\n",
        "import torch.nn.functional as F\n",
        "from torch.nn.functional import relu\n",
        "from torch import nn\n",
        "import torch.optim as optim\n",
        "import torch.optim.lr_scheduler as lr_scheduler\n",
        "import random\n",
        "import numpy as np\n",
        "import gc\n",
        "from pylab import *\n",
        "import os\n",
        "import random\n",
        "import json\n",
        "import pandas as pd\n",
        "from scipy.stats import norm\n",
        "pd.set_option('display.float_format', lambda x: '%.5f' % x)\n",
        "import sys\n",
        "import matplotlib.pyplot as plt\n",
        "import time\n",
        "\n",
        "from linear_transformer import Transformer_F, attention, generate_data, in_context_loss, generate_data_inplace\n",
        "\n",
        "np.set_printoptions(precision = 4, suppress = True)\n",
        "torch.set_printoptions(precision=2)\n",
        "device = torch.device(\"cpu\")"
      ],
      "metadata": {
        "id": "dwA66At2oHKJ"
      },
      "execution_count": null,
      "outputs": []
    },
    {
      "cell_type": "code",
      "source": [
        "# Set Hyperparameters\n",
        "\n",
        "# Fixed\n",
        "n_head = 1\n",
        "d = 5\n",
        "B = 1000\n",
        "var = 0.05\n",
        "shape_k = 0.1\n",
        "\n",
        "# Number of Iterations to run\n",
        "max_iters = 1000\n",
        "hist_stride = 1\n",
        "stride = 50\n",
        "\n",
        "# We vary the following parameters\n",
        "n_layer = 3\n",
        "mode = 'normal'\n",
        "N = 20\n",
        "seeds = [0,1,2,3,4,5]\n",
        "algos = ['sgd','adam']\n",
        "lrs = [0.02]\n",
        "\n",
        "import random\n",
        "\n",
        "# Generate a 3-digit random number\n",
        "random_number = random.randint(100, 999)"
      ],
      "metadata": {
        "id": "JNoxzI-qpxKV"
      },
      "execution_count": null,
      "outputs": []
    },
    {
      "cell_type": "code",
      "source": [
        "# Pipe output to log file\n",
        "log_dir = 'log'\n",
        "os.makedirs(log_dir, exist_ok=True)\n",
        "f = open(log_dir + '/train.log', \"a\", 1)\n",
        "sys.stdout = f\n",
        "\n",
        "# Update the filename_format to include the random_number\n",
        "filename_format = log_dir + f'/train_layer{{}}_N{{}}_{{}}_{{}}_{{}}_lr{{}}_sd{{}}_rn{{}}.pth'"
      ],
      "metadata": {
        "id": "jYyg2Emhp2QR"
      },
      "execution_count": null,
      "outputs": []
    },
    {
      "cell_type": "code",
      "source": [
        "# one-step update of (non-)clipping algotirthm\n",
        "def clip_and_step(allparam, optimizer, toclip, clip_threshold = 1.):\n",
        "    grad_all = allparam.grad\n",
        "    grad_p = grad_all\n",
        "    norm_p = grad_p.norm()\n",
        "    if toclip and norm_p > clip_threshold:\n",
        "            grad_all.mul_(clip_threshold/norm_p)\n",
        "    optimizer.step()\n",
        "    return norm_p.item()"
      ],
      "metadata": {
        "id": "S0vxqTOqp4Fj"
      },
      "execution_count": null,
      "outputs": []
    },
    {
      "cell_type": "code",
      "source": [
        "import torch\n",
        "import numpy as np\n",
        "\n",
        "device = torch.device(\"cuda\" if torch.cuda.is_available() else \"cpu\")\n",
        "\n",
        "## Train linear transformer\n",
        "\n",
        "for alg in algos:\n",
        "    for toclip in [True]:  # True means with clipping, False means without clipping\n",
        "        for lr in lrs:\n",
        "            for sd in seeds:\n",
        "                filename = filename_format.format(n_layer, N, mode, alg, toclip, lr, sd, random_number)\n",
        "                print(filename)\n",
        "                np.random.seed(sd)\n",
        "                torch.manual_seed(sd)\n",
        "                hist_list = list()\n",
        "\n",
        "                # Initialize model parameter\n",
        "                model = Transformer_F(n_layer, n_head, d, var, 0)\n",
        "                model.to(device)  # Move model to the correct device\n",
        "\n",
        "                # Create optimizer\n",
        "                if alg == 'sgd':\n",
        "                    optimizer = torch.optim.SGD(model.parameters(), lr=lr, momentum=0.9, weight_decay=0)\n",
        "                elif alg == 'adam':\n",
        "                    optimizer = torch.optim.AdamW(model.parameters(), lr=lr, betas=(0.9, 0.9), weight_decay=0)\n",
        "                else:\n",
        "                    assert False\n",
        "\n",
        "                for t in range(max_iters):\n",
        "                    start = time.time()\n",
        "                    # Save model parameters\n",
        "                    if t % hist_stride == 0:\n",
        "                        hist_list.append(model.allparam.clone().detach())\n",
        "\n",
        "                    # Generate a new batch of training set\n",
        "                    Z, y = generate_data(mode, N, d, B, shape_k)\n",
        "                    Z = Z.to(device)  # Move data to the correct device\n",
        "                    y = y.to(device)  # Move data to the correct device\n",
        "\n",
        "                    loss = in_context_loss(model, Z, y)\n",
        "                    loss_value = loss.item()\n",
        "                    loss.backward()\n",
        "\n",
        "                    if mode == 'sphere':\n",
        "                        clip_threshold = 0.1\n",
        "                    else:\n",
        "                        clip_threshold = 1.0\n",
        "\n",
        "                    # Take optimizer step\n",
        "                    norms = clip_and_step(model.allparam, optimizer, toclip, clip_threshold)\n",
        "                    optimizer.zero_grad()\n",
        "\n",
        "                    end = time.time()\n",
        "                    if t % 100 == 0 or t < 5:\n",
        "                        print('iter {} | Loss: {}  time: {}  gradnorm: {}'.format(t, loss_value, end-start, norms))\n",
        "\n",
        "                torch.save({'hist_list': hist_list}, filename)\n"
      ],
      "metadata": {
        "id": "tz77cSBBqBQs"
      },
      "execution_count": null,
      "outputs": []
    },
    {
      "cell_type": "code",
      "source": [
        "log_dir = 'log'\n",
        "loss_plots = {}\n",
        "\n",
        "for sd in seeds:\n",
        "    for (alg, toclip, lr) in [('sgd', True, 0.02),('adam', True, 0.02)]:\n",
        "        filename = log_dir + f'/train_layer{{}}_N{{}}_{{}}_{{}}_{{}}_lr{{}}_sd{{}}_rn{{}}.pth'.format(n_layer, N, mode, alg, toclip, lr, sd, random_number)\n",
        "        loaded_dict = torch.load(filename)\n",
        "        hist_list = loaded_dict['hist_list']\n",
        "\n",
        "        np.random.seed(99)\n",
        "        torch.manual_seed(99)\n",
        "        Z, y = generate_data(mode,N,d,B,shape_k)\n",
        "        Z = Z.to(device)\n",
        "        y = y.to(device)\n",
        "\n",
        "        model = Transformer_F(n_layer, n_head, d, var, 0)\n",
        "        model = model.to(device)\n",
        "\n",
        "        test_losses = torch.zeros(max_iters//stride)\n",
        "\n",
        "        for t in range(0,max_iters,stride):\n",
        "            allparam_loaded = hist_list[t]\n",
        "            with torch.no_grad():\n",
        "                model.allparam.copy_(allparam_loaded)\n",
        "            test_loss = in_context_loss(model, Z, y)\n",
        "            test_losses[t//stride] = test_loss.item()\n",
        "\n",
        "        loss_plots[(alg, toclip, lr, sd, random_number)] = test_losses"
      ],
      "metadata": {
        "id": "lWhAJi4evScd",
        "colab": {
          "base_uri": "https://localhost:8080/"
        },
        "outputId": "04c92dba-2b30-4344-d276-3e78eb746ca6"
      },
      "execution_count": null,
      "outputs": [
        {
          "output_type": "stream",
          "name": "stderr",
          "text": [
            "<ipython-input-9-f4da55d50231>:7: FutureWarning: You are using `torch.load` with `weights_only=False` (the current default value), which uses the default pickle module implicitly. It is possible to construct malicious pickle data which will execute arbitrary code during unpickling (See https://github.com/pytorch/pytorch/blob/main/SECURITY.md#untrusted-models for more details). In a future release, the default value for `weights_only` will be flipped to `True`. This limits the functions that could be executed during unpickling. Arbitrary objects will no longer be allowed to be loaded via this mode unless they are explicitly allowlisted by the user via `torch.serialization.add_safe_globals`. We recommend you start setting `weights_only=True` for any use case where you don't have full control of the loaded file. Please open an issue on GitHub for any issues related to this experimental feature.\n",
            "  loaded_dict = torch.load(filename)\n"
          ]
        }
      ]
    },
    {
      "cell_type": "code",
      "source": [
        "fig_dir = 'figures'\n",
        "os.makedirs(fig_dir, exist_ok=True)\n",
        "\n",
        "fig, ax = plt.subplots(1, 1,figsize = (6, 6))\n",
        "\n",
        "for (alg, toclip, lr) in [('sgd', True, 0.02),('adam', True, 0.02)]:\n",
        "    losses = torch.zeros(len(seeds), int(max_iters/stride))\n",
        "    for idx, sd in enumerate(seeds):\n",
        "        losses[idx] = loss_plots[(alg, toclip, lr, sd, random_number)]\n",
        "    losses_mean = torch.mean(losses, axis=0)\n",
        "    losses_std = torch.std(losses, axis=0)\n",
        "    if alg == 'sgd':\n",
        "        ax.plot(range(0,max_iters,stride), losses_mean, color = 'black', lw = 3,label='SGDM')\n",
        "        ax.fill_between(range(0,max_iters,stride), losses_mean-losses_std/4, losses_mean+losses_std/4, color = 'black', alpha = 0.1)\n",
        "    elif alg == 'adam':\n",
        "        ax.plot(range(0,max_iters,stride), losses_mean, color = 'red', lw = 3, label='Adam')\n",
        "        ax.fill_between(range(0,max_iters,stride), losses_mean-losses_std/4, losses_mean+losses_std/4, color = 'red', alpha = 0.1)\n",
        "\n",
        "    ax.set_xlabel('Iteration',fontsize=40)\n",
        "    ax.tick_params(axis='both', which='major', labelsize=30, width = 3, length = 10)\n",
        "    ax.tick_params(axis='both', which='minor', labelsize=20, width = 3, length = 5)\n",
        "    ax.legend(fontsize=30)\n",
        "    ax.spines[['right', 'top']].set_visible(False)\n",
        "    ax.spines['left'].set_linewidth(3)\n",
        "    ax.spines['bottom'].set_linewidth(3)\n",
        "    ax.set_yscale('log')\n",
        "\n",
        "    plt.tight_layout()\n",
        "    plt.savefig(fig_dir + '/loss_layer{}_N{}_{}.pdf'.format(n_layer, N, mode), dpi=600)"
      ],
      "metadata": {
        "colab": {
          "base_uri": "https://localhost:8080/",
          "height": 606
        },
        "id": "nWDBQBQ9vUiT",
        "outputId": "f6318dcc-4825-4eb5-87c8-285b277640f4"
      },
      "execution_count": null,
      "outputs": [
        {
          "output_type": "display_data",
          "data": {
            "text/plain": [
              "<Figure size 600x600 with 1 Axes>"
            ],
            "image/png": "[encoded data removed]"
          },
          "metadata": {}
        }
      ]
    },
    {
      "cell_type": "code",
      "source": [
        "# Print the P and Q matrices from the allparam tensor\n",
        "allparam = model.allparam.detach().cpu().numpy()  # Convert to numpy array for easier printing\n",
        "allparam"
      ],
      "metadata": {
        "id": "HN0Hn-wpE7wq",
        "outputId": "0ba94d53-e19f-4de4-d46e-84a6693e2538",
        "colab": {
          "base_uri": "https://localhost:8080/"
        }
      },
      "execution_count": null,
      "outputs": [
        {
          "output_type": "execute_result",
          "data": {
            "text/plain": [
              "array([[[[[ 0.    ,  0.    ,  0.    ,  0.    ,  0.    ],\n",
              "          [ 0.    ,  0.    ,  0.    ,  0.    ,  0.    ],\n",
              "          [ 0.    ,  0.    ,  0.    ,  0.    ,  0.    ],\n",
              "          [ 0.    ,  0.    ,  0.    ,  0.    ,  0.    ],\n",
              "          [ 0.    ,  0.    ,  0.    ,  0.    ,  0.    ]],\n",
              "\n",
              "         [[-0.4259,  0.    ,  0.    ,  0.    ,  0.    ],\n",
              "          [ 0.    , -0.4259,  0.    ,  0.    ,  0.    ],\n",
              "          [ 0.    ,  0.    , -0.4259,  0.    ,  0.    ],\n",
              "          [ 0.    ,  0.    ,  0.    , -0.4259,  0.    ],\n",
              "          [ 0.    ,  0.    ,  0.    ,  0.    , -0.4259]]]],\n",
              "\n",
              "\n",
              "\n",
              "       [[[[ 0.    ,  0.    ,  0.    ,  0.    ,  0.    ],\n",
              "          [ 0.    ,  0.    ,  0.    ,  0.    ,  0.    ],\n",
              "          [ 0.    ,  0.    ,  0.    ,  0.    ,  0.    ],\n",
              "          [ 0.    ,  0.    ,  0.    ,  0.    ,  0.    ],\n",
              "          [ 0.    ,  0.    ,  0.    ,  0.    ,  0.    ]],\n",
              "\n",
              "         [[-1.7095,  0.    ,  0.    ,  0.    ,  0.    ],\n",
              "          [ 0.    , -1.7095,  0.    ,  0.    ,  0.    ],\n",
              "          [ 0.    ,  0.    , -1.7095,  0.    ,  0.    ],\n",
              "          [ 0.    ,  0.    ,  0.    , -1.7095,  0.    ],\n",
              "          [ 0.    ,  0.    ,  0.    ,  0.    , -1.7095]]]],\n",
              "\n",
              "\n",
              "\n",
              "       [[[[ 0.    ,  0.    ,  0.    ,  0.    ,  0.    ],\n",
              "          [ 0.    ,  0.    ,  0.    ,  0.    ,  0.    ],\n",
              "          [ 0.    ,  0.    ,  0.    ,  0.    ,  0.    ],\n",
              "          [ 0.    ,  0.    ,  0.    ,  0.    ,  0.    ],\n",
              "          [ 0.    ,  0.    ,  0.    ,  0.    ,  0.    ]],\n",
              "\n",
              "         [[-0.7124,  0.    ,  0.    ,  0.    ,  0.    ],\n",
              "          [ 0.    , -0.7124,  0.    ,  0.    ,  0.    ],\n",
              "          [ 0.    ,  0.    , -0.7124,  0.    ,  0.    ],\n",
              "          [ 0.    ,  0.    ,  0.    , -0.7124,  0.    ],\n",
              "          [ 0.    ,  0.    ,  0.    ,  0.    , -0.7124]]]]], dtype=float32)"
            ]
          },
          "metadata": {},
          "execution_count": 11
        }
      ]
    },
    {
      "cell_type": "code",
      "source": [
        "import torch\n",
        "from matplotlib import pyplot as plt\n",
        "import sys\n",
        "import time\n",
        "import os\n",
        "import numpy as np\n",
        "import math\n",
        "\n",
        "##############################################################################################################\n",
        "# Trains a linear Transformer with 1,2,3,4 layers\n",
        "# Plots the test loss of trained Transformer against 1,2,3,4 steps of gradient descent (with and without preconditioning)\n",
        "##############################################################################################################\n",
        "\n",
        "#use cuda if available, else use cpu\n",
        "device = torch.device(\"cuda\" if torch.cuda.is_available() else \"cpu\")\n",
        "#torch.cuda.set_device(1)\n",
        "# import the model and some useful functions\n",
        "from linear_transformer import Transformer_F, attention, generate_data, in_context_loss, generate_data_inplace\n",
        "\n",
        "# set up some print options\n",
        "np.set_printoptions(precision = 2, suppress = True)\n",
        "torch.set_printoptions(precision=2)\n",
        "\n",
        "#begin logging\n",
        "cur_dir = 'log'\n",
        "os.makedirs(cur_dir, exist_ok=True)\n",
        "#f = open(cur_dir + '/rotation.log', \"a\", 1)\n",
        "#sys.stdout = f"
      ],
      "metadata": {
        "id": "c-Rnv5HirlCm"
      },
      "execution_count": 13,
      "outputs": []
    },
    {
      "cell_type": "code",
      "source": [
        "# Set up problem parameters\n",
        "\n",
        "lr = 0.01\n",
        "clip_r = 0.01\n",
        "alg = 'adam'\n",
        "mode = 'normal'\n",
        "\n",
        "n_layer = 4  # number of layers of transformer\n",
        "N = 20     # context length\n",
        "d = 5        # dimension\n",
        "\n",
        "\n",
        "n_head = 1  # 1-headed attention\n",
        "B = 10  # 1000 minibatch size\n",
        "var = 0.0001  # initializations scale of transformer parameter\n",
        "shape_k = 0.1  # shape_k: parameter for Gamma distributed covariates\n",
        "max_iters = 10  # Number of Iterations to run\n",
        "hist_stride = 1  # stride for saved model paramters in `train.ipynb'\n",
        "stride = 100\n",
        "\n",
        "# a convenience function for taking a step and clipping\n",
        "def clip_and_step(allparam, optimizer, clip_r = None):\n",
        "    norm_p=None\n",
        "    grad_all = allparam.grad\n",
        "    if clip_r is not None:\n",
        "        for l in range(grad_all.shape[0]):\n",
        "            for h in range(grad_all.shape[1]):\n",
        "                for t in range(grad_all.shape[2]):\n",
        "                    norm_p = grad_all[l,h,t,:,:].norm().item()\n",
        "                    if norm_p > clip_r:\n",
        "                        grad_all[l,h,t,:,:].mul_(clip_r/norm_p)\n",
        "    optimizer.step()\n",
        "    return norm_p\n",
        "\n",
        "#format for saving run data\n",
        "filename_format = '/variable_L_hist_{}_{}_{}.pth'\n",
        "n_layers = [1,2,3,4]  # number of layers of transformer\n",
        "seeds=[0,1,2,3,4]\n",
        "keys = []\n",
        "for s in seeds:\n",
        "    for n_layer in n_layers:\n",
        "        keys.append((s,n_layer,))"
      ],
      "metadata": {
        "id": "mE769w2br2vt"
      },
      "execution_count": 14,
      "outputs": []
    },
    {
      "cell_type": "code",
      "source": [
        "import torch\n",
        "import numpy as np\n",
        "import time\n",
        "\n",
        "# Determine the device to use (GPU if available, otherwise CPU)\n",
        "device = torch.device(\"cuda\" if torch.cuda.is_available() else \"cpu\")\n",
        "\n",
        "for key in keys:\n",
        "    sd = key[0]\n",
        "    n_layer = key[1]\n",
        "    filename = cur_dir + filename_format.format(n_layer, N, sd)\n",
        "    print(key)\n",
        "\n",
        "    prob_seed = sd\n",
        "    opt_seed = sd\n",
        "\n",
        "    hist = []\n",
        "\n",
        "    # Set seed and initialize model\n",
        "    torch.manual_seed(opt_seed)\n",
        "    model = Transformer_F(n_layer, 1, d, var, 0)\n",
        "    model.to(device)  # Move the model to the appropriate device\n",
        "\n",
        "    # Initialize algorithm. Important: set beta = 0.9 for adam, 0.999 is very slow\n",
        "    optimizer = torch.optim.AdamW(model.parameters(), lr=lr, betas=(0.99, 0.9), weight_decay=0)\n",
        "\n",
        "    # Set seed\n",
        "    # Sample random rotation matrix\n",
        "    # Initialize initial training batch\n",
        "    np.random.seed(prob_seed)\n",
        "    torch.manual_seed(prob_seed)\n",
        "    gaus = torch.FloatTensor(5, 5).uniform_(-1, 1).to(device)  # Ensure tensor is on the correct device\n",
        "    U = torch.linalg.svd(gaus)[0].to(device)\n",
        "    D = torch.diag(torch.FloatTensor([1, 1, 1/2, 1/4, 1])).to(device)\n",
        "    Z, y = generate_data(mode, N, d, B, shape_k, U, D)\n",
        "    Z = Z.to(device)\n",
        "    y = y.to(device)\n",
        "\n",
        "    for t in range(max_iters):\n",
        "        if t % 4000 == 0 and t > 1:\n",
        "            optimizer.param_groups[0]['lr'] = optimizer.param_groups[0]['lr'] * 0.5\n",
        "        if t % 100 == 0:\n",
        "            Z, y = generate_data_inplace(Z, U=U, D=D)\n",
        "\n",
        "        start = time.time()\n",
        "\n",
        "        # Save model parameters\n",
        "        if t % stride == 0:\n",
        "            hist.append(model.allparam.clone().detach())\n",
        "\n",
        "        loss = in_context_loss(model, Z, y)\n",
        "\n",
        "        # Compute gradient and take a step\n",
        "        loss.backward()\n",
        "        norms = clip_and_step(model.allparam, optimizer, clip_r=clip_r)\n",
        "        optimizer.zero_grad()\n",
        "\n",
        "        end = time.time()\n",
        "\n",
        "        if t % 100 == 0 or t < 5:\n",
        "            print('iter {} | Loss: {}  time: {}  gradnorm: {}'.format(t, loss.item(), end-start, norms))\n",
        "\n",
        "    torch.save({'hist': hist, 'U': U, 'D': D}, filename)"
      ],
      "metadata": {
        "id": "gOHBksDxsFBF",
        "outputId": "62e6c4d5-fc9e-447a-a21d-fea1992c3d89",
        "colab": {
          "base_uri": "https://localhost:8080/"
        }
      },
      "execution_count": 15,
      "outputs": [
        {
          "output_type": "stream",
          "name": "stdout",
          "text": [
            "(0, 1)\n",
            "iter 0 | Loss: 5.85996675491333  time: 0.006388425827026367  gradnorm: 16.607484817504883\n",
            "iter 1 | Loss: 5.779771327972412  time: 0.005811452865600586  gradnorm: 16.492528915405273\n",
            "iter 2 | Loss: 5.7001633644104  time: 0.005238533020019531  gradnorm: 16.377580642700195\n",
            "iter 3 | Loss: 5.6211419105529785  time: 0.005490541458129883  gradnorm: 16.262632369995117\n",
            "iter 4 | Loss: 5.54270601272583  time: 0.005894184112548828  gradnorm: 16.147689819335938\n",
            "(0, 2)\n",
            "iter 0 | Loss: 5.859340190887451  time: 0.00789189338684082  gradnorm: 16.606435775756836\n",
            "iter 1 | Loss: 5.700156211853027  time: 0.012160539627075195  gradnorm: 16.260889053344727\n",
            "iter 2 | Loss: 5.544456481933594  time: 0.00835418701171875  gradnorm: 15.920363426208496\n",
            "iter 3 | Loss: 5.392162322998047  time: 0.008625268936157227  gradnorm: 15.584770202636719\n",
            "iter 4 | Loss: 5.243197917938232  time: 0.007891654968261719  gradnorm: 15.254037857055664\n",
            "(0, 3)\n",
            "iter 0 | Loss: 5.859598636627197  time: 0.013963937759399414  gradnorm: 16.60684585571289\n",
            "iter 1 | Loss: 5.622589588165283  time: 0.01186370849609375  gradnorm: 16.034156799316406\n",
            "iter 2 | Loss: 5.394156455993652  time: 0.012837648391723633  gradnorm: 15.478066444396973\n",
            "iter 3 | Loss: 5.1739702224731445  time: 0.011927366256713867  gradnorm: 14.938053131103516\n",
            "iter 4 | Loss: 4.961729049682617  time: 0.011954069137573242  gradnorm: 14.413623809814453\n",
            "(0, 4)\n",
            "iter 0 | Loss: 5.859181880950928  time: 0.01453089714050293  gradnorm: 16.607227325439453\n",
            "iter 1 | Loss: 5.545535087585449  time: 0.017101526260375977  gradnorm: 15.81078815460205\n",
            "iter 2 | Loss: 5.24763822555542  time: 0.014745235443115234  gradnorm: 15.048775672912598\n",
            "iter 3 | Loss: 4.96466588973999  time: 0.014877796173095703  gradnorm: 14.319596290588379\n",
            "iter 4 | Loss: 4.695870876312256  time: 0.014598846435546875  gradnorm: 13.621813774108887\n",
            "(1, 1)\n",
            "iter 0 | Loss: 1.7080659866333008  time: 0.004728794097900391  gradnorm: 5.13690185546875\n",
            "iter 1 | Loss: 1.7091896533966064  time: 0.004507303237915039  gradnorm: 5.137744426727295\n",
            "iter 2 | Loss: 1.710335612297058  time: 0.006577730178833008  gradnorm: 5.1386027336120605\n",
            "iter 3 | Loss: 1.711504340171814  time: 0.005183696746826172  gradnorm: 5.139476776123047\n",
            "iter 4 | Loss: 1.7126976251602173  time: 0.004387855529785156  gradnorm: 5.140368938446045\n",
            "(1, 2)\n",
            "iter 0 | Loss: 1.7080587148666382  time: 0.009116411209106445  gradnorm: 5.136941909790039\n",
            "iter 1 | Loss: 1.7103198766708374  time: 0.007845878601074219  gradnorm: 5.156418323516846\n",
            "iter 2 | Loss: 1.7126543521881104  time: 0.00805974006652832  gradnorm: 5.175960063934326\n",
            "iter 3 | Loss: 1.7150663137435913  time: 0.007815837860107422  gradnorm: 5.195592880249023\n",
            "iter 4 | Loss: 1.7175594568252563  time: 0.007982015609741211  gradnorm: 5.215337753295898\n",
            "(1, 3)\n",
            "iter 0 | Loss: 1.7080974578857422  time: 0.01139068603515625  gradnorm: 5.136565685272217\n",
            "iter 1 | Loss: 1.7115118503570557  time: 0.01156306266784668  gradnorm: 5.174744606018066\n",
            "iter 2 | Loss: 1.715079665184021  time: 0.011162281036376953  gradnorm: 5.213196277618408\n",
            "iter 3 | Loss: 1.7188087701797485  time: 0.013123035430908203  gradnorm: 5.251970291137695\n",
            "iter 4 | Loss: 1.7227041721343994  time: 0.011428594589233398  gradnorm: 5.291113376617432\n",
            "(1, 4)\n",
            "iter 0 | Loss: 1.7080166339874268  time: 0.014205217361450195  gradnorm: 5.13631010055542\n",
            "iter 1 | Loss: 1.712592363357544  time: 0.01605391502380371  gradnorm: 5.193259239196777\n",
            "iter 2 | Loss: 1.7174301147460938  time: 0.014526605606079102  gradnorm: 5.250821113586426\n",
            "iter 3 | Loss: 1.7225383520126343  time: 0.014214277267456055  gradnorm: 5.309049129486084\n",
            "iter 4 | Loss: 1.727913737297058  time: 0.014539957046508789  gradnorm: 5.367952823638916\n",
            "(2, 1)\n",
            "iter 0 | Loss: 9.927863121032715  time: 0.004433155059814453  gradnorm: 8.944844245910645\n",
            "iter 1 | Loss: 9.83836555480957  time: 0.004238128662109375  gradnorm: 8.881915092468262\n",
            "iter 2 | Loss: 9.749469757080078  time: 0.00419306755065918  gradnorm: 8.819019317626953\n",
            "iter 3 | Loss: 9.661176681518555  time: 0.00467228889465332  gradnorm: 8.756159782409668\n",
            "iter 4 | Loss: 9.573491096496582  time: 0.0043981075286865234  gradnorm: 8.69333553314209\n",
            "(2, 2)\n",
            "iter 0 | Loss: 9.927855491638184  time: 0.007740020751953125  gradnorm: 8.944978713989258\n",
            "iter 1 | Loss: 9.750223159790039  time: 0.00843667984008789  gradnorm: 8.733667373657227\n",
            "iter 2 | Loss: 9.576497077941895  time: 0.007700920104980469  gradnorm: 8.526653289794922\n",
            "iter 3 | Loss: 9.40661907196045  time: 0.007561922073364258  gradnorm: 8.323904991149902\n",
            "iter 4 | Loss: 9.240533828735352  time: 0.0073969364166259766  gradnorm: 8.125388145446777\n",
            "(2, 3)\n",
            "iter 0 | Loss: 9.92750072479248  time: 0.01090693473815918  gradnorm: 8.944830894470215\n",
            "iter 1 | Loss: 9.6630859375  time: 0.010798931121826172  gradnorm: 8.588226318359375\n",
            "iter 2 | Loss: 9.40843677520752  time: 0.010956764221191406  gradnorm: 8.246119499206543\n",
            "iter 3 | Loss: 9.163232803344727  time: 0.01071786880493164  gradnorm: 7.918059825897217\n",
            "iter 4 | Loss: 8.927154541015625  time: 0.01087045669555664  gradnorm: 7.603598117828369\n",
            "(2, 4)\n",
            "iter 0 | Loss: 9.927270889282227  time: 0.01792168617248535  gradnorm: 8.944372177124023\n",
            "iter 1 | Loss: 9.577391624450684  time: 0.016839981079101562  gradnorm: 8.445507049560547\n",
            "iter 2 | Loss: 9.24555492401123  time: 0.015778064727783203  gradnorm: 7.976876735687256\n",
            "iter 3 | Loss: 8.930838584899902  time: 0.015728473663330078  gradnorm: 7.536858081817627\n",
            "iter 4 | Loss: 8.632349014282227  time: 0.01805710792541504  gradnorm: 7.123887062072754\n",
            "(3, 1)\n",
            "iter 0 | Loss: 5.5736403465271  time: 0.004357337951660156  gradnorm: 7.557427406311035\n",
            "iter 1 | Loss: 5.55385160446167  time: 0.0042536258697509766  gradnorm: 7.544445991516113\n",
            "iter 2 | Loss: 5.534132480621338  time: 0.004101753234863281  gradnorm: 7.531486988067627\n",
            "iter 3 | Loss: 5.51447868347168  time: 0.005103588104248047  gradnorm: 7.518547058105469\n",
            "iter 4 | Loss: 5.4948859214782715  time: 0.0046176910400390625  gradnorm: 7.505623817443848\n",
            "(3, 2)\n",
            "iter 0 | Loss: 5.573920726776123  time: 0.009031057357788086  gradnorm: 7.558634281158447\n",
            "iter 1 | Loss: 5.534495830535889  time: 0.008724451065063477  gradnorm: 7.4708027839660645\n",
            "iter 2 | Loss: 5.4955363273620605  time: 0.008291482925415039  gradnorm: 7.383568286895752\n",
            "iter 3 | Loss: 5.457036018371582  time: 0.009680509567260742  gradnorm: 7.296899318695068\n",
            "iter 4 | Loss: 5.418989181518555  time: 0.008871078491210938  gradnorm: 7.2107672691345215\n",
            "(3, 3)\n",
            "iter 0 | Loss: 5.573841094970703  time: 0.01876044273376465  gradnorm: 7.558345794677734\n",
            "iter 1 | Loss: 5.5149383544921875  time: 0.016553640365600586  gradnorm: 7.396516799926758\n",
            "iter 2 | Loss: 5.457215785980225  time: 0.012611865997314453  gradnorm: 7.237592697143555\n",
            "iter 3 | Loss: 5.400659084320068  time: 0.013541460037231445  gradnorm: 7.081523895263672\n",
            "iter 4 | Loss: 5.345249176025391  time: 0.012591123580932617  gradnorm: 6.9282636642456055\n",
            "(3, 4)\n",
            "iter 0 | Loss: 5.573587417602539  time: 0.017000436782836914  gradnorm: 7.557367324829102\n",
            "iter 1 | Loss: 5.49536657333374  time: 0.017617225646972656  gradnorm: 7.322411060333252\n",
            "iter 2 | Loss: 5.419353485107422  time: 0.018853425979614258  gradnorm: 7.094362258911133\n",
            "iter 3 | Loss: 5.345501899719238  time: 0.01717233657836914  gradnorm: 6.87309455871582\n",
            "iter 4 | Loss: 5.2737603187561035  time: 0.016494035720825195  gradnorm: 6.658486366271973\n",
            "(4, 1)\n",
            "iter 0 | Loss: 5.051029682159424  time: 0.004991769790649414  gradnorm: 10.197596549987793\n",
            "iter 1 | Loss: 4.9472784996032715  time: 0.004885196685791016  gradnorm: 10.06613826751709\n",
            "iter 2 | Loss: 4.84499454498291  time: 0.004809379577636719  gradnorm: 9.934897422790527\n",
            "iter 3 | Loss: 4.744177341461182  time: 0.005019664764404297  gradnorm: 9.803876876831055\n",
            "iter 4 | Loss: 4.6448235511779785  time: 0.0050754547119140625  gradnorm: 9.673086166381836\n",
            "(4, 2)\n",
            "iter 0 | Loss: 5.053272247314453  time: 0.009232282638549805  gradnorm: 10.2015962600708\n",
            "iter 1 | Loss: 4.848570346832275  time: 0.009487390518188477  gradnorm: 9.79494571685791\n",
            "iter 2 | Loss: 4.652388095855713  time: 0.010099411010742188  gradnorm: 9.401237487792969\n",
            "iter 3 | Loss: 4.464466571807861  time: 0.009349822998046875  gradnorm: 9.02026081085205\n",
            "iter 4 | Loss: 4.284548759460449  time: 0.009493827819824219  gradnorm: 8.651803016662598\n",
            "(4, 3)\n",
            "iter 0 | Loss: 5.053102493286133  time: 0.013074636459350586  gradnorm: 10.201583862304688\n",
            "iter 1 | Loss: 4.7502851486206055  time: 0.013463735580444336  gradnorm: 9.528180122375488\n",
            "iter 2 | Loss: 4.468132019042969  time: 0.015502452850341797  gradnorm: 8.896263122558594\n",
            "iter 3 | Loss: 4.205414772033691  time: 0.013668060302734375  gradnorm: 8.303864479064941\n",
            "iter 4 | Loss: 3.9609572887420654  time: 0.014694452285766602  gradnorm: 7.749065399169922\n",
            "(4, 4)\n",
            "iter 0 | Loss: 5.052379608154297  time: 0.014578819274902344  gradnorm: 10.200750350952148\n",
            "iter 1 | Loss: 4.6542181968688965  time: 0.014545202255249023  gradnorm: 9.268844604492188\n",
            "iter 2 | Loss: 4.293492317199707  time: 0.01458883285522461  gradnorm: 8.421289443969727\n",
            "iter 3 | Loss: 3.966923236846924  time: 0.011835813522338867  gradnorm: 7.651533126831055\n",
            "iter 4 | Loss: 3.6714749336242676  time: 0.011852741241455078  gradnorm: 6.953408241271973\n"
          ]
        }
      ]
    },
    {
      "cell_type": "code",
      "source": [
        "hist[-1].cpu().detach().numpy()"
      ],
      "metadata": {
        "colab": {
          "base_uri": "https://localhost:8080/"
        },
        "id": "3daSDCtPf1Df",
        "outputId": "c5d48220-33a1-42c6-a744-f60c5ec85943"
      },
      "execution_count": null,
      "outputs": [
        {
          "output_type": "execute_result",
          "data": {
            "text/plain": [
              "array([[[[[ 0.  , -0.01, -0.02,  0.01,  0.  ],\n",
              "          [-0.01,  0.01, -0.05,  0.01,  0.01],\n",
              "          [-0.02, -0.02, -0.01, -0.02,  0.01],\n",
              "          [ 0.01,  0.04, -0.01,  0.01,  0.  ],\n",
              "          [ 0.  ,  0.01,  0.01,  0.  ,  0.  ]],\n",
              "\n",
              "         [[-1.49, -0.01, -0.02,  0.02, -0.  ],\n",
              "          [-0.01, -1.47, -0.07,  0.01,  0.01],\n",
              "          [-0.01,  0.  , -1.49, -0.01,  0.01],\n",
              "          [ 0.02,  0.01, -0.01, -1.48,  0.  ],\n",
              "          [-0.01,  0.  ,  0.01,  0.03, -1.48]]]],\n",
              "\n",
              "\n",
              "\n",
              "       [[[[ 0.  , -0.01, -0.01,  0.01,  0.01],\n",
              "          [-0.01,  0.01, -0.03,  0.01,  0.01],\n",
              "          [-0.02, -0.02, -0.01, -0.02,  0.01],\n",
              "          [ 0.01,  0.02, -0.01,  0.01, -0.09],\n",
              "          [ 0.01,  0.01,  0.01,  0.01,  0.  ]],\n",
              "\n",
              "         [[-1.44, -0.01, -0.02,  0.02, -0.01],\n",
              "          [-0.01, -1.42, -0.01,  0.01,  0.01],\n",
              "          [-0.02, -0.02, -1.44, -0.01,  0.01],\n",
              "          [ 0.01,  0.01, -0.02, -1.43,  0.01],\n",
              "          [-0.01,  0.01,  0.01,  0.01, -1.43]]]],\n",
              "\n",
              "\n",
              "\n",
              "       [[[[ 0.01, -0.01, -0.01,  0.01, -0.  ],\n",
              "          [-0.01,  0.01, -0.04,  0.01,  0.01],\n",
              "          [-0.03, -0.01, -0.01, -0.03,  0.01],\n",
              "          [ 0.01,  0.  , -0.02,  0.01, -0.01],\n",
              "          [ 0.01,  0.  ,  0.01, -0.02,  0.  ]],\n",
              "\n",
              "         [[-1.08, -0.01, -0.01,  0.02, -0.  ],\n",
              "          [-0.01, -1.06, -0.07,  0.01,  0.01],\n",
              "          [-0.01, -0.01, -1.08, -0.01,  0.01],\n",
              "          [ 0.01,  0.03, -0.  , -1.06,  0.03],\n",
              "          [ 0.  ,  0.01,  0.01,  0.02, -1.06]]]],\n",
              "\n",
              "\n",
              "\n",
              "       [[[[ 0.  ,  0.  ,  0.  ,  0.  ,  0.  ],\n",
              "          [ 0.  ,  0.  ,  0.  ,  0.  ,  0.  ],\n",
              "          [ 0.  ,  0.  ,  0.  ,  0.  ,  0.  ],\n",
              "          [ 0.  ,  0.  ,  0.  ,  0.  ,  0.  ],\n",
              "          [ 0.  ,  0.  ,  0.  ,  0.  ,  0.  ]],\n",
              "\n",
              "         [[-2.48, -0.01, -0.01,  0.02, -0.01],\n",
              "          [-0.02, -2.46, -0.01,  0.01,  0.01],\n",
              "          [-0.06, -0.01, -2.5 , -0.02,  0.06],\n",
              "          [ 0.01, -0.  , -0.01, -2.47, -0.  ],\n",
              "          [ 0.01, -0.  ,  0.02,  0.03, -2.48]]]]], dtype=float32)"
            ]
          },
          "metadata": {},
          "execution_count": 15
        }
      ]
    },
    {
      "cell_type": "code",
      "source": [
        "########################################################\n",
        "# compute test loss for trained linear Transformers\n",
        "########################################################\n",
        "loss_dict = {}\n",
        "loss_dict_zero = {}\n",
        "store = 0\n",
        "Z_val = 0\n",
        "y_val = 0\n",
        "for sd in seeds:\n",
        "    key = (sd,)\n",
        "    loss_dict[key] = torch.zeros(4)\n",
        "    loss_dict_zero[key] = torch.zeros(4)\n",
        "    for n_layer in n_layers:\n",
        "        # Load parameters for given n_layer and seed\n",
        "        filename = cur_dir + filename_format.format(n_layer, N, sd)\n",
        "        hist = torch.load(filename)['hist']\n",
        "        U = torch.load(filename)['U']\n",
        "        D = torch.load(filename)['D']\n",
        "\n",
        "        # Validation set to find the best model and fine-tune beta_param\n",
        "        np.random.seed(999)\n",
        "        torch.manual_seed(999)\n",
        "        B = 100\n",
        "        Z_val, y_val = generate_data(mode, N, d, B, shape_k, U, D)\n",
        "        Z_val = Z_val.to(device)\n",
        "        y_val = y_val.to(device)\n",
        "        model = Transformer_F(n_layer, n_head, d, var, 1).to(device)\n",
        "\n",
        "        # Fine-tune beta on the validation data\n",
        "        model.alpha.requires_grad = True\n",
        "        model.beta.requires_grad = True\n",
        "        model.gamma.requires_grad = True\n",
        "        model.allparam.requires_grad = True\n",
        "\n",
        "        model.allparam.data.copy_(hist[-1])\n",
        "\n",
        "        # Use Adam optimizer for fine-tuning\n",
        "        optimizer = torch.optim.Adam([model.allparam, model.alpha, model.beta, model.gamma], lr=lr)\n",
        "\n",
        "        fine_tune_iters = 1000\n",
        "        for t in range(fine_tune_iters):  # fine_tune_iters: number of fine-tuning steps\n",
        "            optimizer.zero_grad()\n",
        "            loss = in_context_loss(model, Z_val, y_val)\n",
        "            loss.backward()\n",
        "            optimizer.step()\n",
        "\n",
        "        #loss = 100\n",
        "        #bestmodel = None\n",
        "        #for t in range(len(hist) - 20, len(hist)):\n",
        "        #    with torch.no_grad():\n",
        "        #        model.allparam.copy_(hist[t])\n",
        "        #    newloss = in_context_loss(model, Z_val, y_val).item()\n",
        "        #    if newloss < loss:\n",
        "        #        loss = newloss\n",
        "        #        bestmodel = hist[t]\n",
        "        #with torch.no_grad():\n",
        "        #    model.allparam.copy_(bestmodel)\n",
        "\n",
        "        # Generate new test data after fine-tuning beta\n",
        "        #np.random.seed(99)\n",
        "        #torch.manual_seed(99)\n",
        "        B = 10\n",
        "        Z_test, y_test = generate_data(mode, N, d, B, shape_k, U, D)\n",
        "        #Z_test, y_test = Z_val, y_val\n",
        "        Z_test = Z_test.to(device)\n",
        "        y_test = y_test.to(device)\n",
        "\n",
        "        # Compute loss after fine-tuning and on the new test data\n",
        "        with torch.no_grad():\n",
        "            loss_dict[key][n_layer - 1] = in_context_loss(model, Z_test, y_test).log().item()\n",
        "\n",
        "        #model.beta.data.zero_()\n",
        "        # Compute loss with beta = 0\n",
        "        #with torch.no_grad():\n",
        "        #    loss_dict_zero[key][n_layer - 1] = in_context_loss(model, Z_test, y_test).log().item()\n",
        "\n",
        "# Save the final beta parameter after fine-tuning\n",
        "#torch.save({'beta': model.beta.clone().detach()}, 'beta_finetuned.pth')"
      ],
      "metadata": {
        "id": "JSJdGi-EvbAh",
        "colab": {
          "base_uri": "https://localhost:8080/"
        },
        "outputId": "59f23a66-53d6-4410-e86b-3e15cc1976b7"
      },
      "execution_count": 31,
      "outputs": [
        {
          "output_type": "stream",
          "name": "stderr",
          "text": [
            "<ipython-input-31-8f076cba0534>:16: FutureWarning: You are using `torch.load` with `weights_only=False` (the current default value), which uses the default pickle module implicitly. It is possible to construct malicious pickle data which will execute arbitrary code during unpickling (See https://github.com/pytorch/pytorch/blob/main/SECURITY.md#untrusted-models for more details). In a future release, the default value for `weights_only` will be flipped to `True`. This limits the functions that could be executed during unpickling. Arbitrary objects will no longer be allowed to be loaded via this mode unless they are explicitly allowlisted by the user via `torch.serialization.add_safe_globals`. We recommend you start setting `weights_only=True` for any use case where you don't have full control of the loaded file. Please open an issue on GitHub for any issues related to this experimental feature.\n",
            "  hist = torch.load(filename)['hist']\n",
            "<ipython-input-31-8f076cba0534>:17: FutureWarning: You are using `torch.load` with `weights_only=False` (the current default value), which uses the default pickle module implicitly. It is possible to construct malicious pickle data which will execute arbitrary code during unpickling (See https://github.com/pytorch/pytorch/blob/main/SECURITY.md#untrusted-models for more details). In a future release, the default value for `weights_only` will be flipped to `True`. This limits the functions that could be executed during unpickling. Arbitrary objects will no longer be allowed to be loaded via this mode unless they are explicitly allowlisted by the user via `torch.serialization.add_safe_globals`. We recommend you start setting `weights_only=True` for any use case where you don't have full control of the loaded file. Please open an issue on GitHub for any issues related to this experimental feature.\n",
            "  U = torch.load(filename)['U']\n",
            "<ipython-input-31-8f076cba0534>:18: FutureWarning: You are using `torch.load` with `weights_only=False` (the current default value), which uses the default pickle module implicitly. It is possible to construct malicious pickle data which will execute arbitrary code during unpickling (See https://github.com/pytorch/pytorch/blob/main/SECURITY.md#untrusted-models for more details). In a future release, the default value for `weights_only` will be flipped to `True`. This limits the functions that could be executed during unpickling. Arbitrary objects will no longer be allowed to be loaded via this mode unless they are explicitly allowlisted by the user via `torch.serialization.add_safe_globals`. We recommend you start setting `weights_only=True` for any use case where you don't have full control of the loaded file. Please open an issue on GitHub for any issues related to this experimental feature.\n",
            "  D = torch.load(filename)['D']\n"
          ]
        }
      ]
    },
    {
      "cell_type": "code",
      "source": [
        "# Print the P matrices from the allparam tensor\n",
        "model.allparam.detach().cpu().numpy()  # Convert to numpy array for easier printing"
      ],
      "metadata": {
        "id": "i51FWZMNYefr",
        "outputId": "6deb048b-ad24-4c3e-c0b0-a3d9eda5d72d",
        "colab": {
          "base_uri": "https://localhost:8080/"
        }
      },
      "execution_count": null,
      "outputs": [
        {
          "output_type": "execute_result",
          "data": {
            "text/plain": [
              "array([[[[[ 0.  ,  0.  ,  0.  ,  0.  ,  0.  ],\n",
              "          [ 0.  ,  0.  ,  0.  ,  0.  ,  0.  ],\n",
              "          [ 0.  ,  0.  ,  0.  ,  0.  ,  0.  ],\n",
              "          [ 0.  ,  0.  ,  0.  ,  0.  ,  0.  ],\n",
              "          [ 0.  ,  0.  ,  0.  ,  0.  ,  0.  ]],\n",
              "\n",
              "         [[-1.35,  0.  ,  0.  ,  0.  ,  0.  ],\n",
              "          [ 0.  , -1.35,  0.  ,  0.  ,  0.  ],\n",
              "          [ 0.  ,  0.  , -1.35,  0.  ,  0.  ],\n",
              "          [ 0.  ,  0.  ,  0.  , -1.35,  0.  ],\n",
              "          [ 0.  ,  0.  ,  0.  ,  0.  , -1.35]]]],\n",
              "\n",
              "\n",
              "\n",
              "       [[[[ 0.  ,  0.  ,  0.  ,  0.  ,  0.  ],\n",
              "          [ 0.  ,  0.  ,  0.  ,  0.  ,  0.  ],\n",
              "          [ 0.  ,  0.  ,  0.  ,  0.  ,  0.  ],\n",
              "          [ 0.  ,  0.  ,  0.  ,  0.  ,  0.  ],\n",
              "          [ 0.  ,  0.  ,  0.  ,  0.  ,  0.  ]],\n",
              "\n",
              "         [[-1.32,  0.  ,  0.  ,  0.  ,  0.  ],\n",
              "          [ 0.  , -1.32,  0.  ,  0.  ,  0.  ],\n",
              "          [ 0.  ,  0.  , -1.32,  0.  ,  0.  ],\n",
              "          [ 0.  ,  0.  ,  0.  , -1.32,  0.  ],\n",
              "          [ 0.  ,  0.  ,  0.  ,  0.  , -1.32]]]],\n",
              "\n",
              "\n",
              "\n",
              "       [[[[ 0.  ,  0.  ,  0.  ,  0.  ,  0.  ],\n",
              "          [ 0.  ,  0.  ,  0.  ,  0.  ,  0.  ],\n",
              "          [ 0.  ,  0.  ,  0.  ,  0.  ,  0.  ],\n",
              "          [ 0.  ,  0.  ,  0.  ,  0.  ,  0.  ],\n",
              "          [ 0.  ,  0.  ,  0.  ,  0.  ,  0.  ]],\n",
              "\n",
              "         [[-0.91,  0.  ,  0.  ,  0.  ,  0.  ],\n",
              "          [ 0.  , -0.91,  0.  ,  0.  ,  0.  ],\n",
              "          [ 0.  ,  0.  , -0.91,  0.  ,  0.  ],\n",
              "          [ 0.  ,  0.  ,  0.  , -0.91,  0.  ],\n",
              "          [ 0.  ,  0.  ,  0.  ,  0.  , -0.91]]]],\n",
              "\n",
              "\n",
              "\n",
              "       [[[[ 0.  ,  0.  ,  0.  ,  0.  ,  0.  ],\n",
              "          [ 0.  ,  0.  ,  0.  ,  0.  ,  0.  ],\n",
              "          [ 0.  ,  0.  ,  0.  ,  0.  ,  0.  ],\n",
              "          [ 0.  ,  0.  ,  0.  ,  0.  ,  0.  ],\n",
              "          [ 0.  ,  0.  ,  0.  ,  0.  ,  0.  ]],\n",
              "\n",
              "         [[-2.38,  0.  ,  0.  ,  0.  ,  0.  ],\n",
              "          [ 0.  , -2.38,  0.  ,  0.  ,  0.  ],\n",
              "          [ 0.  ,  0.  , -2.38,  0.  ,  0.  ],\n",
              "          [ 0.  ,  0.  ,  0.  , -2.38,  0.  ],\n",
              "          [ 0.  ,  0.  ,  0.  ,  0.  , -2.38]]]]], dtype=float32)"
            ]
          },
          "metadata": {},
          "execution_count": 17
        }
      ]
    },
    {
      "cell_type": "code",
      "source": [
        "# Print the alpha parameters from the model\n",
        "model.alpha.detach().cpu().numpy()  # Convert to numpy array for easier printing"
      ],
      "metadata": {
        "id": "Jb3D60PMSf_i",
        "outputId": "a253e52e-f3c9-480d-fd05-c60723c4f430",
        "colab": {
          "base_uri": "https://localhost:8080/"
        }
      },
      "execution_count": null,
      "outputs": [
        {
          "output_type": "execute_result",
          "data": {
            "text/plain": [
              "array([0.81, 0.84, 0.83, 0.89], dtype=float32)"
            ]
          },
          "metadata": {},
          "execution_count": 18
        }
      ]
    },
    {
      "cell_type": "code",
      "source": [
        "# Print the beta parameters from the model\n",
        "model.beta.detach().cpu().numpy()  # Convert to numpy array for easier printing"
      ],
      "metadata": {
        "id": "ouIdeYdCVk6j",
        "outputId": "e91e1c86-88d2-42b1-c1f5-0591900fdc0f",
        "colab": {
          "base_uri": "https://localhost:8080/"
        }
      },
      "execution_count": null,
      "outputs": [
        {
          "output_type": "execute_result",
          "data": {
            "text/plain": [
              "array([0.  , 0.29, 0.22, 0.34], dtype=float32)"
            ]
          },
          "metadata": {},
          "execution_count": 19
        }
      ]
    },
    {
      "cell_type": "code",
      "source": [
        "# Print the gamma parameters from the model\n",
        "model.gamma.detach().cpu().numpy()  # Convert to numpy array for easier printing"
      ],
      "metadata": {
        "id": "S4CBdewGVrry",
        "outputId": "71cd8fa6-7884-4fc4-e109-90cc9a5c19f3",
        "colab": {
          "base_uri": "https://localhost:8080/"
        }
      },
      "execution_count": null,
      "outputs": [
        {
          "output_type": "execute_result",
          "data": {
            "text/plain": [
              "array([0.83, 0.84, 0.83, 0.87], dtype=float32)"
            ]
          },
          "metadata": {},
          "execution_count": 20
        }
      ]
    },
    {
      "cell_type": "code",
      "source": [
        "import torch\n",
        "import numpy as np\n",
        "\n",
        "# Conjugate Gradient Descent function\n",
        "def do_cgd(Z, numstep, alphas, betas):\n",
        "    N = Z.shape[0] - 1\n",
        "    X = Z[0:N-1, 0:5]\n",
        "    Y = Z[0:N-1, 5]\n",
        "    w = torch.zeros(X.shape[1]).to(device)\n",
        "\n",
        "    # Initial gradient and direction\n",
        "    r = torch.einsum('ik,ij,j->k', X, X, w) - torch.einsum('ik,i->k', X, Y)\n",
        "    p = -r\n",
        "\n",
        "    for k in range(numstep):\n",
        "        Xp = torch.einsum('ik,ij,j->k', X, X, p)\n",
        "        alpha = torch.dot(r, r) / torch.dot(p, Xp)\n",
        "        alphas.append(alpha.item())  # Store the alpha value\n",
        "\n",
        "        w = w + alpha * p  # Update the weight\n",
        "\n",
        "        r_new = r + alpha * Xp\n",
        "        beta = torch.dot(r_new, r_new) / torch.dot(r, r)\n",
        "        betas.append(beta.item())\n",
        "\n",
        "        p = -r_new + beta * p  # Update direction\n",
        "\n",
        "        r = r_new\n",
        "\n",
        "    return w\n",
        "\n",
        "# Evaluation function for an instance\n",
        "def eval_w_instance(Z, Ytest, w):\n",
        "    N = Z.shape[0] - 1\n",
        "    Xtest = Z[N, 0:5]\n",
        "    prediction = torch.einsum('i,i->', w, Xtest)\n",
        "    return (Ytest - prediction)**2, prediction\n",
        "\n",
        "# Initialization of loss matrix\n",
        "gd_loss_matrix = torch.zeros(len(seeds), 4)\n",
        "\n",
        "average_alphas_per_layer = []\n",
        "average_betas_per_layer = []\n",
        "\n",
        "# Main loop to evaluate performance\n",
        "for n_layer in n_layers:\n",
        "\n",
        "    alphas = []  # Initialize alpha list\n",
        "    betas = []   # Initialize beta list\n",
        "\n",
        "    # First, find the best eta\n",
        "    sd = 1\n",
        "    best_loss = 10000\n",
        "    best_eta = 0\n",
        "    numstep = n_layer\n",
        "\n",
        "    # Load UD matrices\n",
        "    filename = cur_dir + filename_format.format(n_layer, N, sd)\n",
        "    U = torch.load(filename)['U']\n",
        "    D = torch.load(filename)['D']\n",
        "\n",
        "    # Generate test data using seed 999\n",
        "    #np.random.seed(999)\n",
        "    #torch.manual_seed(999)\n",
        "    #Z, y = generate_data(mode, N, d, B, shape_k, U, D)\n",
        "    Z, y = Z_val, y_val\n",
        "    Z = Z.to(device)\n",
        "    y = y.to(device)\n",
        "\n",
        "    # Done generating data\n",
        "\n",
        "    #for eta in [0.008, 0.01, 0.02, 0.04, 0.08, 0.16]:\n",
        "    #    ### Start of evaluate mean loss ###\n",
        "    #    total_loss = 0\n",
        "    #    for i in range(Z.shape[0]):\n",
        "    #        Zi = Z[i, :, :]\n",
        "    #        Ytesti = y[i]\n",
        "    #        w = do_cgd(Zi, eta, numstep)  # Use do_cgd instead of do_gd\n",
        "    #        gd_loss, gd_pred = eval_w_instance(Zi, Ytesti, w)\n",
        "    #        total_loss = total_loss + gd_loss\n",
        "    #    mean_loss = total_loss / 5000\n",
        "    #    ### End of evaluate mean loss ###\n",
        "    #    print('eta: {}, loss: {}'.format(eta, mean_loss))\n",
        "    #    if (mean_loss < best_loss):\n",
        "    #        best_eta = eta\n",
        "    #        best_loss = mean_loss\n",
        "    #print('best eta: {} for n_layer={}'.format(best_eta, n_layer))\n",
        "\n",
        "\n",
        "    # Now do actual evaluation\n",
        "    for sd in seeds:\n",
        "        opt_seed = sd\n",
        "\n",
        "        filename = cur_dir + filename_format.format(n_layer, N, sd)\n",
        "        U = torch.load(filename)['U']\n",
        "        D = torch.load(filename)['D']\n",
        "\n",
        "        # Generate test data\n",
        "        # torch.manual_seed(sd)\n",
        "        #Z, y = generate_data(mode, N, d, B, shape_k, U, D)\n",
        "        Z, y = Z_val, y_val\n",
        "        Z = Z.to(device)\n",
        "        y = y.to(device)\n",
        "\n",
        "        # Done generating data\n",
        "        #eta = best_eta\n",
        "\n",
        "        ### Start of evaluate mean loss ###\n",
        "        total_loss = 0\n",
        "        for i in range(Z.shape[0]):\n",
        "            Zi = Z[i, :, :]\n",
        "            Ytesti = y[i]\n",
        "            w = do_cgd(Zi, numstep, alphas, betas)  # Use do_cgd instead of do_gd\n",
        "            gd_loss, gd_pred = eval_w_instance(Zi, Ytesti, w)\n",
        "            total_loss = total_loss + gd_loss\n",
        "        mean_loss = total_loss / Z.shape[0]\n",
        "        gd_loss_matrix[sd, n_layer-1] = mean_loss\n",
        "\n",
        "    average_alpha = sum(alphas) / len(alphas)\n",
        "    average_alphas_per_layer.append(average_alpha)\n",
        "\n",
        "    average_beta = sum(betas) / len(betas)\n",
        "    average_betas_per_layer.append(average_beta)\n",
        "\n",
        "# Compute mean and std of log test loss for plotting\n",
        "gd_loss_mean = gd_loss_matrix.log().mean(dim=0)\n",
        "gd_loss_std = gd_loss_matrix.log().var(dim=0)**0.5"
      ],
      "metadata": {
        "colab": {
          "base_uri": "https://localhost:8080/"
        },
        "id": "zkuKre0QtE3t",
        "outputId": "f1d8322c-dc31-4944-d94b-ba39d10357b1"
      },
      "execution_count": 32,
      "outputs": [
        {
          "output_type": "stream",
          "name": "stderr",
          "text": [
            "<ipython-input-32-0dea5a976735>:59: FutureWarning: You are using `torch.load` with `weights_only=False` (the current default value), which uses the default pickle module implicitly. It is possible to construct malicious pickle data which will execute arbitrary code during unpickling (See https://github.com/pytorch/pytorch/blob/main/SECURITY.md#untrusted-models for more details). In a future release, the default value for `weights_only` will be flipped to `True`. This limits the functions that could be executed during unpickling. Arbitrary objects will no longer be allowed to be loaded via this mode unless they are explicitly allowlisted by the user via `torch.serialization.add_safe_globals`. We recommend you start setting `weights_only=True` for any use case where you don't have full control of the loaded file. Please open an issue on GitHub for any issues related to this experimental feature.\n",
            "  U = torch.load(filename)['U']\n",
            "<ipython-input-32-0dea5a976735>:60: FutureWarning: You are using `torch.load` with `weights_only=False` (the current default value), which uses the default pickle module implicitly. It is possible to construct malicious pickle data which will execute arbitrary code during unpickling (See https://github.com/pytorch/pytorch/blob/main/SECURITY.md#untrusted-models for more details). In a future release, the default value for `weights_only` will be flipped to `True`. This limits the functions that could be executed during unpickling. Arbitrary objects will no longer be allowed to be loaded via this mode unless they are explicitly allowlisted by the user via `torch.serialization.add_safe_globals`. We recommend you start setting `weights_only=True` for any use case where you don't have full control of the loaded file. Please open an issue on GitHub for any issues related to this experimental feature.\n",
            "  D = torch.load(filename)['D']\n",
            "<ipython-input-32-0dea5a976735>:95: FutureWarning: You are using `torch.load` with `weights_only=False` (the current default value), which uses the default pickle module implicitly. It is possible to construct malicious pickle data which will execute arbitrary code during unpickling (See https://github.com/pytorch/pytorch/blob/main/SECURITY.md#untrusted-models for more details). In a future release, the default value for `weights_only` will be flipped to `True`. This limits the functions that could be executed during unpickling. Arbitrary objects will no longer be allowed to be loaded via this mode unless they are explicitly allowlisted by the user via `torch.serialization.add_safe_globals`. We recommend you start setting `weights_only=True` for any use case where you don't have full control of the loaded file. Please open an issue on GitHub for any issues related to this experimental feature.\n",
            "  U = torch.load(filename)['U']\n",
            "<ipython-input-32-0dea5a976735>:96: FutureWarning: You are using `torch.load` with `weights_only=False` (the current default value), which uses the default pickle module implicitly. It is possible to construct malicious pickle data which will execute arbitrary code during unpickling (See https://github.com/pytorch/pytorch/blob/main/SECURITY.md#untrusted-models for more details). In a future release, the default value for `weights_only` will be flipped to `True`. This limits the functions that could be executed during unpickling. Arbitrary objects will no longer be allowed to be loaded via this mode unless they are explicitly allowlisted by the user via `torch.serialization.add_safe_globals`. We recommend you start setting `weights_only=True` for any use case where you don't have full control of the loaded file. Please open an issue on GitHub for any issues related to this experimental feature.\n",
            "  D = torch.load(filename)['D']\n"
          ]
        }
      ]
    },
    {
      "cell_type": "code",
      "source": [
        "model.allparam.detach().cpu().numpy()"
      ],
      "metadata": {
        "id": "OmbeKqKIxuvr",
        "outputId": "30e80633-394d-49fa-f6a8-d263c910fbc8",
        "colab": {
          "base_uri": "https://localhost:8080/"
        }
      },
      "execution_count": null,
      "outputs": [
        {
          "output_type": "execute_result",
          "data": {
            "text/plain": [
              "array([[[[[ 0.  ,  0.  ,  0.  ,  0.  ,  0.  ],\n",
              "          [ 0.  ,  0.  ,  0.  ,  0.  ,  0.  ],\n",
              "          [ 0.  ,  0.  ,  0.  ,  0.  ,  0.  ],\n",
              "          [ 0.  ,  0.  ,  0.  ,  0.  ,  0.  ],\n",
              "          [ 0.  ,  0.  ,  0.  ,  0.  ,  0.  ]],\n",
              "\n",
              "         [[-1.35,  0.  ,  0.  ,  0.  ,  0.  ],\n",
              "          [ 0.  , -1.35,  0.  ,  0.  ,  0.  ],\n",
              "          [ 0.  ,  0.  , -1.35,  0.  ,  0.  ],\n",
              "          [ 0.  ,  0.  ,  0.  , -1.35,  0.  ],\n",
              "          [ 0.  ,  0.  ,  0.  ,  0.  , -1.35]]]],\n",
              "\n",
              "\n",
              "\n",
              "       [[[[ 0.  ,  0.  ,  0.  ,  0.  ,  0.  ],\n",
              "          [ 0.  ,  0.  ,  0.  ,  0.  ,  0.  ],\n",
              "          [ 0.  ,  0.  ,  0.  ,  0.  ,  0.  ],\n",
              "          [ 0.  ,  0.  ,  0.  ,  0.  ,  0.  ],\n",
              "          [ 0.  ,  0.  ,  0.  ,  0.  ,  0.  ]],\n",
              "\n",
              "         [[-1.32,  0.  ,  0.  ,  0.  ,  0.  ],\n",
              "          [ 0.  , -1.32,  0.  ,  0.  ,  0.  ],\n",
              "          [ 0.  ,  0.  , -1.32,  0.  ,  0.  ],\n",
              "          [ 0.  ,  0.  ,  0.  , -1.32,  0.  ],\n",
              "          [ 0.  ,  0.  ,  0.  ,  0.  , -1.32]]]],\n",
              "\n",
              "\n",
              "\n",
              "       [[[[ 0.  ,  0.  ,  0.  ,  0.  ,  0.  ],\n",
              "          [ 0.  ,  0.  ,  0.  ,  0.  ,  0.  ],\n",
              "          [ 0.  ,  0.  ,  0.  ,  0.  ,  0.  ],\n",
              "          [ 0.  ,  0.  ,  0.  ,  0.  ,  0.  ],\n",
              "          [ 0.  ,  0.  ,  0.  ,  0.  ,  0.  ]],\n",
              "\n",
              "         [[-0.91,  0.  ,  0.  ,  0.  ,  0.  ],\n",
              "          [ 0.  , -0.91,  0.  ,  0.  ,  0.  ],\n",
              "          [ 0.  ,  0.  , -0.91,  0.  ,  0.  ],\n",
              "          [ 0.  ,  0.  ,  0.  , -0.91,  0.  ],\n",
              "          [ 0.  ,  0.  ,  0.  ,  0.  , -0.91]]]],\n",
              "\n",
              "\n",
              "\n",
              "       [[[[ 0.  ,  0.  ,  0.  ,  0.  ,  0.  ],\n",
              "          [ 0.  ,  0.  ,  0.  ,  0.  ,  0.  ],\n",
              "          [ 0.  ,  0.  ,  0.  ,  0.  ,  0.  ],\n",
              "          [ 0.  ,  0.  ,  0.  ,  0.  ,  0.  ],\n",
              "          [ 0.  ,  0.  ,  0.  ,  0.  ,  0.  ]],\n",
              "\n",
              "         [[-2.38,  0.  ,  0.  ,  0.  ,  0.  ],\n",
              "          [ 0.  , -2.38,  0.  ,  0.  ,  0.  ],\n",
              "          [ 0.  ,  0.  , -2.38,  0.  ,  0.  ],\n",
              "          [ 0.  ,  0.  ,  0.  , -2.38,  0.  ],\n",
              "          [ 0.  ,  0.  ,  0.  ,  0.  , -2.38]]]]], dtype=float32)"
            ]
          },
          "metadata": {},
          "execution_count": 22
        }
      ]
    },
    {
      "cell_type": "code",
      "source": [
        "average_alphas_per_layer"
      ],
      "metadata": {
        "id": "Zn6FPhbzQnGe",
        "outputId": "85e0b2e8-d959-4f35-c191-fb03aa94c2da",
        "colab": {
          "base_uri": "https://localhost:8080/"
        }
      },
      "execution_count": null,
      "outputs": [
        {
          "output_type": "execute_result",
          "data": {
            "text/plain": [
              "[0.0542751173581928,\n",
              " 0.08501520213391632,\n",
              " 0.11959993117737273,\n",
              " 0.15499436300667002]"
            ]
          },
          "metadata": {},
          "execution_count": 23
        }
      ]
    },
    {
      "cell_type": "code",
      "source": [
        "average_betas_per_layer"
      ],
      "metadata": {
        "id": "wt-msITqQr70",
        "outputId": "82732d2d-7c07-48ee-a4a1-8319e17a0eb9",
        "colab": {
          "base_uri": "https://localhost:8080/"
        }
      },
      "execution_count": null,
      "outputs": [
        {
          "output_type": "execute_result",
          "data": {
            "text/plain": [
              "[0.14417675749212502,\n",
              " 0.31961147870460993,\n",
              " 0.40049469108473085,\n",
              " 0.42347534680965837]"
            ]
          },
          "metadata": {},
          "execution_count": 24
        }
      ]
    },
    {
      "cell_type": "code",
      "source": [
        "####################################\n",
        "# plot final test loss against N\n",
        "####################################\n",
        "\n",
        "fig_dir = 'figures'\n",
        "os.makedirs(fig_dir, exist_ok=True)\n",
        "\n",
        "fig, ax = plt.subplots(1, 1,figsize = (9, 9))\n",
        "\n",
        "losses = torch.zeros(len(seeds), len(n_layers))\n",
        "keys = loss_dict.keys()\n",
        "for idx, key in enumerate(keys):\n",
        "    losses[idx,:] = loss_dict[key]\n",
        "losses_mean = torch.mean(losses, axis=0)\n",
        "losses_std = torch.std(losses, axis=0)/10\n",
        "\n",
        "losses_zero = torch.zeros(len(seeds), len(n_layers))\n",
        "keys = loss_dict_zero.keys()\n",
        "for idx, key in enumerate(keys):\n",
        "    losses_zero[idx,:] = loss_dict_zero[key]\n",
        "losses_mean_zero = torch.mean(losses_zero, axis=0)\n",
        "losses_std_zero = torch.std(losses_zero, axis=0)/10\n",
        "\n",
        "plt.plot(n_layers, gd_loss_mean, color='blue', label='Conjugate Gradient Descent')\n",
        "plt.fill_between(n_layers, gd_loss_mean - gd_loss_std/10, gd_loss_mean + gd_loss_std/10, color='blue', alpha=0.2)\n",
        "\n",
        "ax.plot(n_layers, losses_mean, color = 'red', lw = 3, label='Scalar Preconditioning Memf')\n",
        "ax.fill_between(n_layers, losses_mean-losses_std, losses_mean+losses_std, color = 'red', alpha = 0.2)\n",
        "\n",
        "#ax.plot(n_layers, losses_mean_zero, color = 'green', lw = 3, label='Linear Transformer')\n",
        "#ax.fill_between(n_layers, losses_mean_zero-losses_std_zero, losses_mean_zero+losses_std_zero, color = 'green', alpha = 0.2)\n",
        "\n",
        "plt.ylabel('log(Loss)',fontsize=30)\n",
        "plt.xlabel('Number of Layers/Steps',fontsize=30)\n",
        "ax.tick_params(axis='both', which='major', labelsize=30, width = 3, length = 10)\n",
        "ax.tick_params(axis='both', which='minor', labelsize=20, width = 3, length = 5)\n",
        "ax.legend(fontsize=24)\n",
        "#ax.set_yscale('log')\n",
        "\n",
        "\n",
        "plt.tight_layout()\n",
        "plt.savefig(fig_dir + '/variable-L-plot.pdf', dpi=600)"
      ],
      "metadata": {
        "colab": {
          "base_uri": "https://localhost:8080/",
          "height": 907
        },
        "id": "HmXIuGJNt1VB",
        "outputId": "2dce5f6f-5868-469c-e829-1b37b85eecc8"
      },
      "execution_count": 33,
      "outputs": [
        {
          "output_type": "display_data",
          "data": {
            "text/plain": [
              "<Figure size 900x900 with 1 Axes>"
            ],
            "image/png": "[encoded data removed]"
          },
          "metadata": {}
        }
      ]
    },
    {
      "cell_type": "code",
      "source": [
        "loss_dict"
      ],
      "metadata": {
        "id": "0-MYw8mc7U-Q",
        "outputId": "e47a77b1-1c9c-4f82-b953-518f472b6e26",
        "colab": {
          "base_uri": "https://localhost:8080/"
        }
      },
      "execution_count": null,
      "outputs": [
        {
          "output_type": "execute_result",
          "data": {
            "text/plain": [
              "{(0,): tensor([  1.32, -28.67,   -inf, -31.88]),\n",
              " (1,): tensor([  1.32, -31.88,   -inf,   -inf]),\n",
              " (2,): tensor([  1.26, -29.69,   -inf, -31.88]),\n",
              " (3,): tensor([  1.32, -29.11,   -inf,   -inf]),\n",
              " (4,): tensor([ -6.44, -29.69,   -inf, -30.50])}"
            ]
          },
          "metadata": {},
          "execution_count": 10
        }
      ]
    },
    {
      "cell_type": "code",
      "source": [
        "gd_loss_mean"
      ],
      "metadata": {
        "id": "1bXKcZzHYIHz",
        "outputId": "ccf32b8d-91dc-4a5b-9574-88a3706c161b",
        "colab": {
          "base_uri": "https://localhost:8080/"
        }
      },
      "execution_count": null,
      "outputs": [
        {
          "output_type": "execute_result",
          "data": {
            "text/plain": [
              "tensor([ 0.75,  0.18, -0.74, -1.62])"
            ]
          },
          "metadata": {},
          "execution_count": 27
        }
      ]
    },
    {
      "cell_type": "code",
      "source": [
        "losses_mean"
      ],
      "metadata": {
        "id": "Pa3uMf3kYKG3",
        "outputId": "f2528459-5083-4709-ee0d-c7c7036aa276",
        "colab": {
          "base_uri": "https://localhost:8080/"
        }
      },
      "execution_count": null,
      "outputs": [
        {
          "output_type": "execute_result",
          "data": {
            "text/plain": [
              "tensor([ 0.86,  0.54,  0.20, -0.14])"
            ]
          },
          "metadata": {},
          "execution_count": 28
        }
      ]
    }
  ]
}